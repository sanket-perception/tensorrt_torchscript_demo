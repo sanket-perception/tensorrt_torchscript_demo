{
 "cells": [
  {
   "cell_type": "markdown",
   "id": "28f205d5",
   "metadata": {},
   "source": [
    "# TorchScript \n",
    "TorchScript is a way to create serializable and optimizable models from PyTorch code. Any TorchScript program can be saved from a Python process and loaded in a process where there is no Python dependency.\n",
    "\n",
    "It is a tool to incrementally transition a model from a pure Python program to a TorchScript program that can be run independently from Python, such as in a standalone C++ program. This makes it possible to train models in PyTorch using familiar tools in Python and then export the model via TorchScript to a production environment where Python programs may be disadvantageous for performance and multi-threading reasons."
   ]
  },
  {
   "cell_type": "code",
   "execution_count": 1,
   "id": "2beacab0",
   "metadata": {},
   "outputs": [],
   "source": [
    "from torchvision import models\n",
    "import cv2\n",
    "import torch\n",
    "from torchvision.transforms import Resize, Compose, ToTensor, Normalize\n",
    "import onnx\n",
    "from torch import nn"
   ]
  },
  {
   "cell_type": "code",
   "execution_count": 2,
   "id": "26aa5970",
   "metadata": {},
   "outputs": [],
   "source": [
    "def preprocess_image(img_path):\n",
    "    # transformations for the input data\n",
    "    transforms = Compose([\n",
    "        ToTensor(),\n",
    "        Resize(224),\n",
    "        Normalize(mean=[0.485, 0.456, 0.406], std=[0.229, 0.224, 0.225]),\n",
    "    ])\n",
    "\n",
    "    # read input image\n",
    "    input_img = cv2.imread(img_path)\n",
    "    # do transformations\n",
    "    input_data = transforms(input_img)\n",
    "    batch_data = torch.unsqueeze(input_data, 0)\n",
    "    return batch_data\n",
    "\n",
    "def postprocess(output_data):\n",
    "    # get class names\n",
    "    with open(\"../data/imagenet_classes.txt\") as f:\n",
    "        classes = [line.strip() for line in f.readlines()]\n",
    "    # calculate human-readable value by softmax\n",
    "    confidences = torch.nn.functional.softmax(output_data, dim=1)[0] * 100\n",
    "    # find top predicted classes\n",
    "    _, indices = torch.sort(output_data, descending=True)\n",
    "    i = 0\n",
    "    # print the top classes predicted by the model\n",
    "    while confidences[indices[0][i]] > 0.5:\n",
    "        class_idx = indices[0][i]\n",
    "        print(\n",
    "            \"class:\",\n",
    "            classes[class_idx],\n",
    "            \", confidence:\",\n",
    "            confidences[class_idx].item(),\n",
    "            \"%, index:\",\n",
    "            class_idx.item(),\n",
    "        )\n",
    "        i += 1\n"
   ]
  },
  {
   "cell_type": "markdown",
   "id": "27f9d171",
   "metadata": {},
   "source": [
    "### Step 1 : Simple Baseline Python implementation"
   ]
  },
  {
   "cell_type": "code",
   "execution_count": 3,
   "id": "3db65973",
   "metadata": {},
   "outputs": [
    {
     "name": "stdout",
     "output_type": "stream",
     "text": [
      "class: cup , confidence: 94.97858428955078 %, index: 968\n",
      "class: espresso , confidence: 3.9512522220611572 %, index: 967\n",
      "class: coffee mug , confidence: 0.6196928024291992 %, index: 504\n"
     ]
    }
   ],
   "source": [
    "input = preprocess_image(\"../data/turkish_coffee.jpg\").cuda()\n",
    "model = models.resnet50(pretrained=True)\n",
    "model.eval()\n",
    "model.cuda()\n",
    "output = model(input)\n",
    "\n",
    "postprocess(output)"
   ]
  },
  {
   "cell_type": "markdown",
   "id": "978e729e",
   "metadata": {},
   "source": [
    "### Step 2 : Define nn.Module based network class"
   ]
  },
  {
   "cell_type": "code",
   "execution_count": 4,
   "id": "7b72f1cf",
   "metadata": {},
   "outputs": [],
   "source": [
    "class Classify(nn.Module):\n",
    "    def __init__(self):\n",
    "        super(Classify, self).__init__()\n",
    "        self.resnet = models.resnet50(pretrained=True)\n",
    "        \n",
    "    def forward(self, image):\n",
    "        output = self.resnet(image)\n",
    "        return output\n",
    "   "
   ]
  },
  {
   "cell_type": "code",
   "execution_count": 5,
   "id": "6361ae19",
   "metadata": {},
   "outputs": [],
   "source": [
    "network = Classify().cuda()"
   ]
  },
  {
   "cell_type": "markdown",
   "id": "9c438c65",
   "metadata": {},
   "source": [
    "###  Step 3 : Convert network to Trace using dummy input"
   ]
  },
  {
   "cell_type": "code",
   "execution_count": 7,
   "id": "8a77f2e3",
   "metadata": {},
   "outputs": [],
   "source": [
    "dummy_input = torch.rand_like(input).cuda()\n",
    "traced_network = torch.jit.trace(network, (dummy_input))"
   ]
  },
  {
   "cell_type": "markdown",
   "id": "fa20c345",
   "metadata": {},
   "source": [
    "### Step 4 : Save the Trace as a Torchscript file"
   ]
  },
  {
   "cell_type": "code",
   "execution_count": 8,
   "id": "577c8960",
   "metadata": {},
   "outputs": [],
   "source": [
    "traced_network.save('../torchscript_engines/simple_classifier.pt')"
   ]
  },
  {
   "cell_type": "markdown",
   "id": "5f3e039f",
   "metadata": {},
   "source": [
    "To load your serialized PyTorch model in C++, your application must depend on the PyTorch C++ API – also known as LibTorch. The LibTorch distribution encompasses a collection of shared libraries, header files and CMake build configuration files.  For this tutorial, we will be building a minimal C++ application using setup-tools and LibTorch that simply loads and executes a serialized PyTorch model."
   ]
  }
 ],
 "metadata": {
  "kernelspec": {
   "display_name": "Python 3.8.16 ('bevfusion')",
   "language": "python",
   "name": "python3"
  },
  "language_info": {
   "codemirror_mode": {
    "name": "ipython",
    "version": 3
   },
   "file_extension": ".py",
   "mimetype": "text/x-python",
   "name": "python",
   "nbconvert_exporter": "python",
   "pygments_lexer": "ipython3",
   "version": "3.8.16"
  },
  "vscode": {
   "interpreter": {
    "hash": "fd2e805bf45cfce0ee59caeff624ebf2dd294551239d1fbf11f6751485705e2f"
   }
  }
 },
 "nbformat": 4,
 "nbformat_minor": 5
}
